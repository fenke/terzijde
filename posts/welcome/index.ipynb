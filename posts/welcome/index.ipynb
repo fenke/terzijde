{
 "cells": [
  {
   "cell_type": "markdown",
   "metadata": {},
   "source": [
    "---\n",
    "title: \"Welkom\"\n",
    "author: \"Fenke Meijer\"\n",
    "date: \"2024-01-29\"\n",
    "date-modified: \"last-modified\"\n",
    "categories: [news]\n",
    "---"
   ]
  },
  {
   "cell_type": "markdown",
   "metadata": {},
   "source": [
    "Een weblog staat niet hoog op mijn lijst met *dingen die \n",
    "ik nog moet doen* maar nu ik me voor mijn werk toch met \n",
    "het schrijven van documentatie bezig houdt kan ik ook wel\n",
    "wat kwijt over mijn eigen interesses.\n",
    "\n",
    "\n",
    "Blogging was never high on my priority list, but here we are \n",
    "anyway, writing documentation with Quarto is to be blamed I \n",
    "suppose and while I am at it, I might write about something \n",
    "I find interesting for myself. \n"
   ]
  }
 ],
 "metadata": {
  "kernelspec": {
   "display_name": "python3",
   "language": "python",
   "name": "python3"
  }
 },
 "nbformat": 4,
 "nbformat_minor": 4
}
