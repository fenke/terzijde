{
 "cells": [
  {
   "cell_type": "markdown",
   "metadata": {},
   "source": [
    "---\n",
    "title: \"Elite Dangerous: Guardians I\"\n",
    "author: \"CMDR immerlicht\"\n",
    "date: \"3310-02-01\"\n",
    "categories: [elite-dangerous, code, analysis]\n",
    "image: \"HighResScreenShot_2023-01-06_19-cropped.jpg\"\n",
    "echo: false\n",
    "draft: true\n",
    "---\n"
   ]
  },
  {
   "cell_type": "markdown",
   "metadata": {},
   "source": [
    "## Introduction"
   ]
  },
  {
   "cell_type": "markdown",
   "metadata": {},
   "source": [
    "\n",
    "The Guardians, a lost, enigmatic civilization that left us beacons and ruins, millions of years old, yet all still functional. They were technologically advanced and colonized part of the Orion arm long before humans learned to travel between stars, long before we even existed.\n",
    "\n",
    "Not one decade after their initial discovery a remarkable 300 systems have been discovered with remains of this mysterious civilization.\n"
   ]
  },
  {
   "cell_type": "markdown",
   "metadata": {},
   "source": [
    "\n",
    "For information on Guardians\n",
    "\n",
    "[Canonn Research / The Guardians](https://canonn.science/codex/the-guardians/)\n",
    "\n"
   ]
  },
  {
   "cell_type": "markdown",
   "metadata": {},
   "source": [
    "### An observation"
   ]
  },
  {
   "cell_type": "markdown",
   "metadata": {},
   "source": [
    "The [Interactive Galactic Map](https://edastro.com/galmap/) with EDAstro can display markersfor known systems with guardian sites, the result can be seen in @fig-astro-guardian-sites. "
   ]
  },
  {
   "cell_type": "markdown",
   "metadata": {},
   "source": [
    "![Galactic Map with Guardian sites](Web capture_4-2-2024_203931_edastro.com.jpeg){#fig-astro-guardian-sites}"
   ]
  },
  {
   "cell_type": "markdown",
   "metadata": {},
   "source": [
    "Looking at this map we immediately recognize these markers appear to lie on two lines that intersect somewhere at the border between the Formidine Rift and the Errant Marches."
   ]
  },
  {
   "cell_type": "markdown",
   "metadata": {},
   "source": []
  },
  {
   "cell_type": "markdown",
   "metadata": {},
   "source": [
    "### First analysis"
   ]
  },
  {
   "cell_type": "markdown",
   "metadata": {},
   "source": [
    "Canonn Research maintains data on discoveries related to the Guardians. We use the coordinate data on Guardian Sites, Ruins and Beacons from Canonn Research."
   ]
  },
  {
   "cell_type": "code",
   "execution_count": 1,
   "metadata": {},
   "outputs": [],
   "source": [
    "#\n",
    "import os\n",
    "import json\n",
    "import numpy as np\n",
    "import pandas as pd\n",
    "from itertools import accumulate, permutations, combinations, product\n",
    "from sklearn.cluster import DBSCAN"
   ]
  },
  {
   "cell_type": "code",
   "execution_count": 2,
   "metadata": {},
   "outputs": [],
   "source": [
    "# Terzijde/data/guardian/Canonn - Guardians - Brain Tree Sites.csv\n",
    "# Terzijde/terzijde/posts/ed-guardians-1/index.ipynb\n",
    "guardiandata_path = os.path.join(os.getcwd(), '..', '..', 'data', 'guardian')\n",
    "\n",
    "guardiandata_files = {n.split(' - ')[2].split('.')[-2]:os.path.join(guardiandata_path, n) for n in os.listdir(guardiandata_path) if 'Canonn - Guardians' in n}\n",
    "guardiandata = {n:pd.read_csv(p) for n,p in guardiandata_files.items()}"
   ]
  },
  {
   "cell_type": "code",
   "execution_count": 3,
   "metadata": {},
   "outputs": [],
   "source": [
    "with open(f\"guardian-beacons.json\", 'wt') as of:\n",
    "    json.dump(dict(markers=[\n",
    "            dict(\n",
    "                pin='red',\n",
    "                text=str(row),\n",
    "                **{c:v for c,v in zip(['x','y','z'], row[['x','y','z']])}\n",
    "            )\n",
    "            for index,row in guardiandata['Guardian Beacons'].iterrows()\n",
    "        ]), of, indent=3)"
   ]
  },
  {
   "cell_type": "code",
   "execution_count": 4,
   "metadata": {},
   "outputs": [],
   "source": [
    "soi = ['Ruins','Structures'] #+ ['Beacons']\n",
    "\n",
    "inter_columns = list([i for i in accumulate([set(guardiandata['Guardian '+n].columns) for n in soi], lambda D1, D2: D1 & D2)][-1])\n",
    "union_columns = list([i for i in accumulate([set(guardiandata['Guardian '+n].columns) for n in soi], lambda D1, D2: D1 | D2)][-1])\n",
    "\n",
    "column_order_inter = {c:i for c,i in zip(guardiandata['Guardian Beacons'].columns, range(len(guardiandata['Guardian Beacons'].columns))) }\n",
    "inter_columns = sorted(inter_columns, key=lambda I:column_order_inter.get(I,100))\n",
    "union_columns = sorted(union_columns, key=lambda I:column_order_inter.get(I,100))"
   ]
  },
  {
   "cell_type": "code",
   "execution_count": 5,
   "metadata": {},
   "outputs": [],
   "source": [
    "#[row for index,row in guardiandata['Guardian Beacons'].iterrows()]"
   ]
  },
  {
   "cell_type": "code",
   "execution_count": 6,
   "metadata": {},
   "outputs": [],
   "source": [
    "soi_systems = {\n",
    "    r['System Name']:dict(\n",
    "        coord=np.asarray([r[c] for c in ['x', 'y', 'z']]),\n",
    "        info= np.asarray([g] + [r[c] for c in inter_columns])\n",
    "    )\n",
    "    for g in soi for i, r in guardiandata['Guardian '+g].iterrows()\n",
    "}\n",
    "\n",
    "soi_systemnames = np.vstack([v['info'] for k,v in soi_systems.items()])\n",
    "soi_coordinates = np.vstack([v['coord'] for k,v in soi_systems.items()])\n",
    "#print(soi_coordinates.shape, soi_systemnames.shape)"
   ]
  },
  {
   "cell_type": "code",
   "execution_count": 7,
   "metadata": {},
   "outputs": [],
   "source": [
    "soi_systemnames = np.asarray(\n",
    "    [[g]+[r[c] for c in inter_columns] for g in soi for i, r in guardiandata['Guardian '+g].iterrows()] )\n",
    "soi_coordinates = np.asarray([[r[c] for c in ['x', 'y', 'z']] for g in soi for i, r in guardiandata['Guardian '+g].iterrows()])\n",
    "#print(soi_coordinates.shape, soi_systemnames.shape)"
   ]
  },
  {
   "cell_type": "code",
   "execution_count": 8,
   "metadata": {},
   "outputs": [],
   "source": [
    "soi_systems = {r['System Name']:np.asarray([r[c] for c in ['x', 'y', 'z']]) for g in soi for i, r in guardiandata['Guardian '+g].iterrows()}\n",
    "soi_systemnames = np.asarray(\n",
    "    [[g]+[r[c] for c in inter_columns] for g in soi for i, r in guardiandata['Guardian '+g].iterrows()] )\n",
    "soi_coordinates = np.asarray([[r[c] for c in ['x', 'y', 'z']] for g in soi for i, r in guardiandata['Guardian '+g].iterrows()])\n",
    "#print(soi_coordinates.shape, soi_systemnames.shape)"
   ]
  },
  {
   "cell_type": "code",
   "execution_count": 9,
   "metadata": {},
   "outputs": [],
   "source": [
    "coord_clusters = DBSCAN(eps=120, min_samples=3).fit(soi_coordinates)\n",
    "#print(np.unique(coord_clusters.labels_))\n",
    "#print(np.count_nonzero(np.less(coord_clusters.labels_,0)))\n",
    "#print([(l, np.count_nonzero(np.equal(coord_clusters.labels_,l))) for l in np.unique(coord_clusters.labels_)])\n"
   ]
  },
  {
   "cell_type": "code",
   "execution_count": 10,
   "metadata": {},
   "outputs": [
    {
     "data": {
      "text/html": [
       "<div>\n",
       "<style scoped>\n",
       "    .dataframe tbody tr th:only-of-type {\n",
       "        vertical-align: middle;\n",
       "    }\n",
       "\n",
       "    .dataframe tbody tr th {\n",
       "        vertical-align: top;\n",
       "    }\n",
       "\n",
       "    .dataframe thead th {\n",
       "        text-align: right;\n",
       "    }\n",
       "</style>\n",
       "<table border=\"1\" class=\"dataframe\">\n",
       "  <thead>\n",
       "    <tr style=\"text-align: right;\">\n",
       "      <th></th>\n",
       "      <th>0</th>\n",
       "      <th>1</th>\n",
       "      <th>2</th>\n",
       "      <th>3</th>\n",
       "      <th>4</th>\n",
       "      <th>5</th>\n",
       "      <th>6</th>\n",
       "      <th>7</th>\n",
       "      <th>8</th>\n",
       "      <th>9</th>\n",
       "      <th>...</th>\n",
       "      <th>14</th>\n",
       "      <th>15</th>\n",
       "      <th>16</th>\n",
       "      <th>17</th>\n",
       "      <th>18</th>\n",
       "      <th>19</th>\n",
       "      <th>20</th>\n",
       "      <th>21</th>\n",
       "      <th>22</th>\n",
       "      <th>23</th>\n",
       "    </tr>\n",
       "  </thead>\n",
       "  <tbody>\n",
       "    <tr>\n",
       "      <th>0</th>\n",
       "      <td>-1</td>\n",
       "      <td>Ruins</td>\n",
       "      <td>1</td>\n",
       "      <td>SYNUEFE XR-H D11-102</td>\n",
       "      <td>357.34375</td>\n",
       "      <td>-49.34375</td>\n",
       "      <td>-74.75</td>\n",
       "      <td>F (White) Star</td>\n",
       "      <td>1 B</td>\n",
       "      <td>Rocky body</td>\n",
       "      <td>...</td>\n",
       "      <td>Inner Orion Spur</td>\n",
       "      <td>-6.915672805</td>\n",
       "      <td>0.000494</td>\n",
       "      <td>6.915614009</td>\n",
       "      <td>Inner Orion Spur</td>\n",
       "      <td>No volcanism</td>\n",
       "      <td>299</td>\n",
       "      <td>357.34375</td>\n",
       "      <td>-49.34375</td>\n",
       "      <td>-74.75000</td>\n",
       "    </tr>\n",
       "    <tr>\n",
       "      <th>1</th>\n",
       "      <td>-1</td>\n",
       "      <td>Ruins</td>\n",
       "      <td>361</td>\n",
       "      <td>TRAPEZIUM SECTOR YU-X C1-2</td>\n",
       "      <td>573.59375</td>\n",
       "      <td>-339.46875</td>\n",
       "      <td>-1167.65625</td>\n",
       "      <td>K (Yellow-Orange) Star</td>\n",
       "      <td>1 A</td>\n",
       "      <td>Rocky body</td>\n",
       "      <td>...</td>\n",
       "      <td>Inner Orion Spur</td>\n",
       "      <td>8.524807315</td>\n",
       "      <td>nan</td>\n",
       "      <td>8.374837745</td>\n",
       "      <td>Inner Orion Spur</td>\n",
       "      <td>No volcanism</td>\n",
       "      <td>246</td>\n",
       "      <td>573.59375</td>\n",
       "      <td>-339.46875</td>\n",
       "      <td>-1167.65625</td>\n",
       "    </tr>\n",
       "    <tr>\n",
       "      <th>2</th>\n",
       "      <td>-1</td>\n",
       "      <td>Structures</td>\n",
       "      <td>186</td>\n",
       "      <td>TRAPEZIUM SECTOR YU-X C1-2</td>\n",
       "      <td>573.59375</td>\n",
       "      <td>-339.46875</td>\n",
       "      <td>-1167.65625</td>\n",
       "      <td>K (Yellow-Orange) Star</td>\n",
       "      <td>1 A</td>\n",
       "      <td>Rocky body</td>\n",
       "      <td>...</td>\n",
       "      <td>Inner Orion Spur</td>\n",
       "      <td>8.524807315</td>\n",
       "      <td>nan</td>\n",
       "      <td>8.374837745</td>\n",
       "      <td>Inner Orion Spur</td>\n",
       "      <td>No volcanism</td>\n",
       "      <td>246</td>\n",
       "      <td>573.59375</td>\n",
       "      <td>-339.46875</td>\n",
       "      <td>-1167.65625</td>\n",
       "    </tr>\n",
       "    <tr>\n",
       "      <th>3</th>\n",
       "      <td>-1</td>\n",
       "      <td>Structures</td>\n",
       "      <td>200</td>\n",
       "      <td>WREGOE BU-Y B2-0</td>\n",
       "      <td>1077.375</td>\n",
       "      <td>400.5625</td>\n",
       "      <td>-993.375</td>\n",
       "      <td>M (Red dwarf) Star</td>\n",
       "      <td>1 C</td>\n",
       "      <td>Icy body</td>\n",
       "      <td>...</td>\n",
       "      <td>Inner Orion Spur</td>\n",
       "      <td>11.49914532</td>\n",
       "      <td>0.001431</td>\n",
       "      <td>11.49832809</td>\n",
       "      <td>Unknown</td>\n",
       "      <td>No volcanism</td>\n",
       "      <td>58</td>\n",
       "      <td>1077.37500</td>\n",
       "      <td>400.56250</td>\n",
       "      <td>-993.37500</td>\n",
       "    </tr>\n",
       "    <tr>\n",
       "      <th>4</th>\n",
       "      <td>-1</td>\n",
       "      <td>Structures</td>\n",
       "      <td>201</td>\n",
       "      <td>WREGOE BU-Y B2-0</td>\n",
       "      <td>1077.375</td>\n",
       "      <td>400.5625</td>\n",
       "      <td>-993.375</td>\n",
       "      <td>M (Red dwarf) Star</td>\n",
       "      <td>1 C</td>\n",
       "      <td>Icy body</td>\n",
       "      <td>...</td>\n",
       "      <td>Inner Orion Spur</td>\n",
       "      <td>11.49914532</td>\n",
       "      <td>0.001431</td>\n",
       "      <td>11.49832809</td>\n",
       "      <td>Unknown</td>\n",
       "      <td>No volcanism</td>\n",
       "      <td>58</td>\n",
       "      <td>1077.37500</td>\n",
       "      <td>400.56250</td>\n",
       "      <td>-993.37500</td>\n",
       "    </tr>\n",
       "  </tbody>\n",
       "</table>\n",
       "<p>5 rows × 24 columns</p>\n",
       "</div>"
      ],
      "text/plain": [
       "   0           1    2                           3          4           5   \\\n",
       "0  -1       Ruins    1        SYNUEFE XR-H D11-102  357.34375   -49.34375   \n",
       "1  -1       Ruins  361  TRAPEZIUM SECTOR YU-X C1-2  573.59375  -339.46875   \n",
       "2  -1  Structures  186  TRAPEZIUM SECTOR YU-X C1-2  573.59375  -339.46875   \n",
       "3  -1  Structures  200            WREGOE BU-Y B2-0   1077.375    400.5625   \n",
       "4  -1  Structures  201            WREGOE BU-Y B2-0   1077.375    400.5625   \n",
       "\n",
       "            6                       7     8           9   ...  \\\n",
       "0       -74.75          F (White) Star   1 B  Rocky body  ...   \n",
       "1  -1167.65625  K (Yellow-Orange) Star   1 A  Rocky body  ...   \n",
       "2  -1167.65625  K (Yellow-Orange) Star   1 A  Rocky body  ...   \n",
       "3     -993.375      M (Red dwarf) Star   1 C    Icy body  ...   \n",
       "4     -993.375      M (Red dwarf) Star   1 C    Icy body  ...   \n",
       "\n",
       "                 14            15        16           17                18  \\\n",
       "0  Inner Orion Spur  -6.915672805  0.000494  6.915614009  Inner Orion Spur   \n",
       "1  Inner Orion Spur   8.524807315       nan  8.374837745  Inner Orion Spur   \n",
       "2  Inner Orion Spur   8.524807315       nan  8.374837745  Inner Orion Spur   \n",
       "3  Inner Orion Spur   11.49914532  0.001431  11.49832809           Unknown   \n",
       "4  Inner Orion Spur   11.49914532  0.001431  11.49832809           Unknown   \n",
       "\n",
       "             19   20          21         22          23  \n",
       "0  No volcanism  299   357.34375  -49.34375   -74.75000  \n",
       "1  No volcanism  246   573.59375 -339.46875 -1167.65625  \n",
       "2  No volcanism  246   573.59375 -339.46875 -1167.65625  \n",
       "3  No volcanism   58  1077.37500  400.56250  -993.37500  \n",
       "4  No volcanism   58  1077.37500  400.56250  -993.37500  \n",
       "\n",
       "[5 rows x 24 columns]"
      ]
     },
     "execution_count": 10,
     "metadata": {},
     "output_type": "execute_result"
    }
   ],
   "source": [
    "outliers = np.copy(soi_coordinates[np.less(coord_clusters.labels_,0)])\n",
    "outlier_systemnames = np.copy(soi_systemnames[np.less(coord_clusters.labels_,0)])\n",
    "\n",
    "pd.DataFrame([[-1]+n.tolist()+c.tolist() for n,c in zip(outlier_systemnames, outliers)])\n"
   ]
  },
  {
   "cell_type": "code",
   "execution_count": 11,
   "metadata": {},
   "outputs": [],
   "source": [
    "\n",
    "with open(f\"guardian-clusters.json\", 'wt') as of:\n",
    "    json.dump(dict(markers=[\n",
    "            dict(\n",
    "                pin='cyan',\n",
    "                text=f'Center of cluster {row[0]} with {row[2]} guardian sites',\n",
    "                **{c:v for c,v in zip(['x','y','z'], row[1])}\n",
    "            )\n",
    "            for row in [\n",
    "                (l, np.round(np.mean(soi_coordinates[np.equal(coord_clusters.labels_,l)], axis=0),2).tolist(), np.count_nonzero(np.equal(coord_clusters.labels_,l)) ) \n",
    "                for l in np.unique(coord_clusters.labels_) \n",
    "                if not l < 0]\n",
    "        ]), of, indent=3)"
   ]
  },
  {
   "cell_type": "code",
   "execution_count": 12,
   "metadata": {},
   "outputs": [],
   "source": [
    "\n",
    "with open(f\"guardian-outliers.json\", 'wt') as of:\n",
    "    json.dump(dict(markers=[\n",
    "            dict(\n",
    "                pin='red',\n",
    "                text='\\n'.join([f\"{cn:20}: {v}\" for cn, v in zip(['type'] + inter_columns,row[0])]),\n",
    "                **{c:v for c,v in zip(['x','y','z'], row[1])}\n",
    "            )\n",
    "            for row in [(n,c) for n,c in zip(outlier_systemnames, outliers)]\n",
    "        ] ), of, indent=3)"
   ]
  },
  {
   "cell_type": "code",
   "execution_count": null,
   "metadata": {},
   "outputs": [],
   "source": []
  },
  {
   "cell_type": "code",
   "execution_count": null,
   "metadata": {},
   "outputs": [],
   "source": []
  },
  {
   "cell_type": "code",
   "execution_count": null,
   "metadata": {},
   "outputs": [],
   "source": []
  },
  {
   "cell_type": "code",
   "execution_count": null,
   "metadata": {},
   "outputs": [],
   "source": []
  }
 ],
 "metadata": {
  "kernelspec": {
   "display_name": ".venv",
   "language": "python",
   "name": "python3"
  },
  "language_info": {
   "codemirror_mode": {
    "name": "ipython",
    "version": 3
   },
   "file_extension": ".py",
   "mimetype": "text/x-python",
   "name": "python",
   "nbconvert_exporter": "python",
   "pygments_lexer": "ipython3",
   "version": "3.12.7"
  }
 },
 "nbformat": 4,
 "nbformat_minor": 4
}
